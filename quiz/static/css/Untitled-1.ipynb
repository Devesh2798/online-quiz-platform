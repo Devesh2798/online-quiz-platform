{
 "cells": [
  {
   "cell_type": "code",
   "execution_count": null,
   "metadata": {},
   "outputs": [],
   "source": [
    "def user_login(request):\n",
    "    if request.method == 'POST':\n",
    "        form = LoginForm(request.POST)\n",
    "        if form.is_valid():\n",
    "            username = form.cleaned_data['username']\n",
    "            password = form.cleaned_data['password']\n",
    "            user = authenticate(request, username=username, password=password)\n",
    "            if user:\n",
    "                login(request, user)\n",
    "                return redirect('home')\n",
    "            else:\n",
    "                return render(request, 'quiz/login.html', {'form': form, 'error': 'Invalid credentials'})\n",
    "    else:\n",
    "        form = LoginForm()\n",
    "    return render(request, 'quiz/login.html', {'form': form})\n",
    "\n"
   ]
  }
 ],
 "metadata": {
  "language_info": {
   "name": "python"
  }
 },
 "nbformat": 4,
 "nbformat_minor": 2
}
